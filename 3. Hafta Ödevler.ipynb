{
 "cells": [
  {
   "cell_type": "code",
   "execution_count": 25,
   "metadata": {},
   "outputs": [
    {
     "name": "stdout",
     "output_type": "stream",
     "text": [
      "15 <class 'int'>\n",
      "15 <class 'str'>\n",
      "29.61 <class 'str'>\n",
      "29.61 <class 'float'>\n",
      "29 <class 'int'>\n"
     ]
    }
   ],
   "source": [
    "''' Ödev 1 '''\n",
    "sayi = 15\n",
    "print(sayi,type(sayi))\n",
    "\n",
    "'''int to string dönüşümü'''\n",
    "_sayi=str(sayi) \n",
    "print(_sayi,type(_sayi))\n",
    "\n",
    "yazi = '29.61'\n",
    "print(yazi,type(yazi))\n",
    "\n",
    "'''str to float dönüşümü'''\n",
    "_yazi=float(yazi)\n",
    "print(_yazi,type(_yazi))\n",
    "\n",
    "'''float to int dönüşümü'''\n",
    "_iYazi=int(_yazi)\n",
    "print(_iYazi,type(_iYazi))"
   ]
  },
  {
   "cell_type": "code",
   "execution_count": 28,
   "metadata": {},
   "outputs": [
    {
     "name": "stdout",
     "output_type": "stream",
     "text": [
      "Farklı isimler mevcuttur.\n"
     ]
    }
   ],
   "source": [
    "''' Ödev 2 '''\n",
    "isim1=\"Nesrin\"\n",
    "isim2=\"Melikşah\"\n",
    "isim3=\"Bora\"\n",
    "\n",
    "if(isim1==isim2 or isim1==isim3 or isim2==isim3):\n",
    "    print(\"Aynı isimler mevcuttur.\")\n",
    "else:\n",
    "    print(\"Farklı isimler mevcuttur.\")\n",
    "    "
   ]
  },
  {
   "cell_type": "code",
   "execution_count": 32,
   "metadata": {},
   "outputs": [
    {
     "name": "stdout",
     "output_type": "stream",
     "text": [
      "Girilen Sayıların Toplamı =  7\n",
      "Girilen Sayıların Farkı =  3\n",
      "Girilen Sayıların Çarpımı =  10\n",
      "Girilen Sayıların Bölümü =  2.5\n"
     ]
    }
   ],
   "source": [
    "''' Ödev 3 '''\n",
    "s1=int(input(\"1. Sayıyı Giriniz: \"))\n",
    "s2=int(input(\"2. Sayıyı Giriniz: \"))\n",
    "print(\"Girilen Sayıların Toplamı = \", (s1+s2))\n",
    "print(\"Girilen Sayıların Farkı = \", (s1-s2))\n",
    "print(\"Girilen Sayıların Çarpımı = \", (s1*s2))\n",
    "print(\"Girilen Sayıların Bölümü = \", (s1/s2))"
   ]
  },
  {
   "cell_type": "code",
   "execution_count": 34,
   "metadata": {},
   "outputs": [
    {
     "name": "stdout",
     "output_type": "stream",
     "text": [
      "nesrin ist 23\n"
     ]
    }
   ],
   "source": [
    "''' Ödev 4 '''\n",
    "isim=input(\"İsminizi Giriniz: \")\n",
    "sehir=input(\"Şehrinizi Giriniz: \")\n",
    "yas=input(\"Yaşınızı Giriniz: \")\n",
    "print(isim,sehir,yas)\n"
   ]
  },
  {
   "cell_type": "code",
   "execution_count": 57,
   "metadata": {},
   "outputs": [
    {
     "name": "stdout",
     "output_type": "stream",
     "text": [
      "['Hi-Kod', 'Veri', 'Bilimi', 'Atölyesi']\n",
      "HI-KOD VERI BILIMI ATÖLYESI\n",
      "hi-kod veri bilimi atölyesi\n",
      "02468 - 13579\n"
     ]
    }
   ],
   "source": [
    "''' Ödev 5 '''\n",
    "txt=\"Hi-Kod Veri Bilimi Atölyesi\"\n",
    "print(txt.split(\" \"))\n",
    "print(txt.upper())\n",
    "print(txt.lower())\n",
    "\n",
    "sayilar=\"0123456789\"\n",
    "cift=sayilar[0:len(sayilar):2]\n",
    "tek=sayilar[1:len(sayilar):2]\n",
    "print(cift,\",\",tek)"
   ]
  }
 ],
 "metadata": {
  "kernelspec": {
   "display_name": "Python 3",
   "language": "python",
   "name": "python3"
  },
  "language_info": {
   "codemirror_mode": {
    "name": "ipython",
    "version": 3
   },
   "file_extension": ".py",
   "mimetype": "text/x-python",
   "name": "python",
   "nbconvert_exporter": "python",
   "pygments_lexer": "ipython3",
   "version": "3.11.9"
  }
 },
 "nbformat": 4,
 "nbformat_minor": 2
}
