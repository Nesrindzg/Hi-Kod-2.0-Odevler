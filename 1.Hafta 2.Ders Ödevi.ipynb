{
 "cells": [
  {
   "cell_type": "code",
   "execution_count": null,
   "metadata": {},
   "outputs": [],
   "source": [
    "''' Ödev 1 '''\n",
    "maas=int(input(\"Maaş Bilginizi Giriniz: \"))\n",
    "kesinti=0\n",
    "if(maas<=10000):\n",
    "    kesinti=(maas*5)/100\n",
    "elif(maas<=25000):\n",
    "    kesinti=(maas*10)/100\n",
    "elif(maas<=45000):\n",
    "    kesinti=(maas*10)/100  \n",
    "else:\n",
    "    kesinti=(maas*30)/100  \n",
    "print(\"Kesilen Vergi Miktarı: \",kesinti)\n",
    "print(\"Yeni Maaş: \",(maas-kesinti))\n"
   ]
  },
  {
   "cell_type": "code",
   "execution_count": null,
   "metadata": {},
   "outputs": [],
   "source": [
    "''' Ödev 2 '''\n",
    "kullaniciAdi = input(\"Lütfen kullanıcı adı oluşturunuz: \")\n",
    "sifre = input(\"Lütfen şifre oluşturunuz: \")\n",
    "if len(sifre) >= 6:\n",
    "    print(\"Hesabınız Oluşturuldu!\")\n",
    "else:\n",
    "    print(\"Altı Haneli Şifre Oluşturulması Gerekmektedir.\")\n",
    "    "
   ]
  },
  {
   "cell_type": "code",
   "execution_count": 64,
   "metadata": {},
   "outputs": [
    {
     "name": "stdout",
     "output_type": "stream",
     "text": [
      "Lütfen girdiniz şifre 5 haneden az 10 haneden fazla olmasın!\n",
      "Lütfen girdiniz şifre 5 haneden az 10 haneden fazla olmasın!\n",
      "Hesabınız oluşturuldu\n"
     ]
    }
   ],
   "source": [
    "''' Ödev 3 '''\n",
    "kullaniciAdi = input(\"Lütfen kullanıcı adı oluşturunuz: \")\n",
    "while True:\n",
    "    sifre = input(\"Lütfen şifre oluşturunuz: \")\n",
    "    if len(sifre) >= 5 and len(sifre)<=10:\n",
    "        print(\"Hesabınız oluşturuldu\")\n",
    "        break\n",
    "    else:\n",
    "        print(\"Lütfen girdiniz şifre 5 haneden az 10 haneden fazla olmasın!\")"
   ]
  },
  {
   "cell_type": "code",
   "execution_count": 65,
   "metadata": {},
   "outputs": [
    {
     "name": "stdout",
     "output_type": "stream",
     "text": [
      "Şifre Yanlış Tekrar Deneyin!\n",
      "Şifre Yanlış Tekrar Deneyin!\n",
      "Giriş Başarısız\n"
     ]
    }
   ],
   "source": [
    "''' Ödev 4 '''\n",
    "kullanici_adi = input(\"Lütfen kullanıcı adı oluşturunuz: \")\n",
    "sifre = input(\"Lütfen şifre oluşturunuz: \")\n",
    "sayac=1\n",
    "girilen=input(\"Şifrenizi Girin: \")\n",
    "while True:\n",
    "    if(sifre==girilen):\n",
    "        print(\"Giriş Yapıldı\")\n",
    "        break\n",
    "    elif(sayac<3):\n",
    "        print(\"Yanlış Şifre Girildi\")\n",
    "        girilen=input(\"Şifrenizi Girin: \")\n",
    "        sayac+=1\n",
    "    else:\n",
    "        print(\"Giriş Başarısız\")\n",
    "        break"
   ]
  }
 ],
 "metadata": {
  "kernelspec": {
   "display_name": "Python 3",
   "language": "python",
   "name": "python3"
  },
  "language_info": {
   "codemirror_mode": {
    "name": "ipython",
    "version": 3
   },
   "file_extension": ".py",
   "mimetype": "text/x-python",
   "name": "python",
   "nbconvert_exporter": "python",
   "pygments_lexer": "ipython3",
   "version": "3.11.9"
  }
 },
 "nbformat": 4,
 "nbformat_minor": 2
}
