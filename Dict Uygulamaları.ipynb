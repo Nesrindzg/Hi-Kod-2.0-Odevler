{
 "cells": [
  {
   "cell_type": "code",
   "execution_count": 68,
   "metadata": {},
   "outputs": [
    {
     "name": "stdout",
     "output_type": "stream",
     "text": [
      "Öğrencinizin Aşağıdaki Derslere Kaydı Bulunmaktadır.\n",
      "Matematik\n",
      "Fizik\n",
      "Kimya\n",
      "Not Güncelleme Başarılı\n",
      "Nesrin Öğrencisinin Yeni Fizik Notu = 100\n"
     ]
    }
   ],
   "source": [
    "sozluk={'Nesrin': {'Matematik': 91,\n",
    "                   'Fizik': 85,\n",
    "                   'Kimya': 75},\n",
    "        'Melikşah': {'Matematik': 75,\n",
    "                   'Fizik': 70,\n",
    "                   'Kimya': 85},\n",
    "        'Bora': {'Matematik': 95,\n",
    "                   'Fizik': 80,\n",
    "                   'Kimya': 85}}\n",
    "\n",
    "isim=input(\"İsminizi Giriniz:\")\n",
    "ders=input(\"Ders Adını Giriniz:\")\n",
    "\n",
    "# Öğrenci Not Bilgisi Öğrenme\n",
    "if isim in sozluk:\n",
    "    if ders in sozluk[isim]:\n",
    "        print(\"{} Öğrencisinin {} Notu = {}\".format(isim, ders, sozluk[isim][ders]))\n",
    "    else:\n",
    "        print(\"{} öğrencisinin {} dersi bulunmamaktadır.\".format(isim, ders))\n",
    "else:\n",
    "    print(\"Öğrenci Kaydı Bulunmamaktadır.\")\n",
    "\n",
    "# Güncelleme İşlemi\n",
    "print(sozluk[\"Melikşah\"])\n",
    "sozluk[\"Melikşah\"][\"Matematik\"] = 80\n",
    "print(sozluk[\"Melikşah\"])\n",
    "\n",
    "# Yeni Değer Ekleme\n",
    "sozluk[\"Dora\"]={'Matematik': 70, 'Fizik': 90, 'Kimya': 100}\n",
    "print(sozluk)\n",
    "\n",
    "# Öğretmen - Öğrenci Sorgulama\n",
    "ogr=input(\"Bilgi Almak İstediğiniz Öğrenci Adını Giriniz: \")\n",
    "\n",
    "if ogr in sozluk:\n",
    "    print(\"Öğrencinizin Aşağıdaki Derslere Kaydı Bulunmaktadır.\")\n",
    "    for ders in sozluk[isim]:\n",
    "        print(ders)\n",
    "else:\n",
    "    print(\"Öğrenci Kaydı Bulunmamaktadır.\")\n",
    "    \n",
    "\n",
    "ders=input(\"Hangi Ders Hakkında İşlem Yapmak İstersiniz? \")\n",
    "islem=int(input(\"Not Bilgisi İçin 1'e, \\n Not Güncellemek İçin 2'ye Basın.\"))\n",
    "if islem==1:\n",
    "    print(sozluk[ogr][ders])\n",
    "elif islem==2:\n",
    "    yeni_not=input(\"Yeni Notu Giriniz:\")\n",
    "    sozluk[ogr][ders]=yeni_not\n",
    "    print(\"Not Güncelleme Başarılı\")\n",
    "    print(\"{} Öğrencisinin Yeni {} Notu = {}\".format(ogr, ders, sozluk[ogr][ders]))\n",
    "else:\n",
    "    print(\"Hatalı Giriş\")\n"
   ]
  }
 ],
 "metadata": {
  "kernelspec": {
   "display_name": "Python 3",
   "language": "python",
   "name": "python3"
  },
  "language_info": {
   "codemirror_mode": {
    "name": "ipython",
    "version": 3
   },
   "file_extension": ".py",
   "mimetype": "text/x-python",
   "name": "python",
   "nbconvert_exporter": "python",
   "pygments_lexer": "ipython3",
   "version": "3.11.9"
  }
 },
 "nbformat": 4,
 "nbformat_minor": 2
}
