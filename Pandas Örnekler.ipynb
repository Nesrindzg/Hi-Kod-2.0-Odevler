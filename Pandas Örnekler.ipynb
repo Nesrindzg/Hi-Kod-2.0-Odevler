{
 "cells": [
  {
   "cell_type": "code",
   "execution_count": 99,
   "metadata": {},
   "outputs": [],
   "source": [
    "sozluk = {\"Kategori\": [\"Giyim\",\"Giyim\", \"Ayakkabı\",\"Aksesuar\",\"Ayakkabı\",\"Giyim\",\"Aksesuar\",\"Aksesuar\",\"Ayakkabı\",\"Giyim\"],\n",
    "          \"Ürün\" : [\"Kazak\",\"T-shirt\",\"Sandalet\",\"Küpe\",\"Spor Ayakkabı\",\"Pantolon\",\"Kolye\",\"Yüzük\",\"Çizme\",\"Ceket\"],\n",
    "          \"Fiyat\" : [300,180,450,50,700,400,150,80,850,900]}\n"
   ]
  },
  {
   "cell_type": "code",
   "execution_count": 98,
   "metadata": {},
   "outputs": [],
   "source": [
    "import pandas as pd\n",
    "df = pd.DataFrame(sozluk)"
   ]
  },
  {
   "cell_type": "code",
   "execution_count": 97,
   "metadata": {},
   "outputs": [
    {
     "name": "stdout",
     "output_type": "stream",
     "text": [
      "2. Indexteki Kategori: Ayakkabı\n"
     ]
    }
   ],
   "source": [
    "kategori=df.loc[2,\"Kategori\"]\n",
    "print(\"2. Indexteki Kategori:\",kategori)"
   ]
  },
  {
   "cell_type": "code",
   "execution_count": 96,
   "metadata": {},
   "outputs": [
    {
     "name": "stdout",
     "output_type": "stream",
     "text": [
      "2. Indexteki Ürün: Sandalet\n"
     ]
    }
   ],
   "source": [
    "urun=df.loc[2,\"Ürün\"]\n",
    "print(\"2. Indexteki Ürün:\",urun)"
   ]
  },
  {
   "cell_type": "code",
   "execution_count": 95,
   "metadata": {},
   "outputs": [
    {
     "name": "stdout",
     "output_type": "stream",
     "text": [
      "   Kategori           Ürün  Fiyat\n",
      "4  Ayakkabı  Spor Ayakkabı    700\n",
      "5     Giyim       Pantolon    400\n",
      "6  Aksesuar          Kolye    150\n",
      "7  Aksesuar          Yüzük     80\n",
      "8  Ayakkabı          Çizme    850\n",
      "9     Giyim          Ceket    900\n"
     ]
    }
   ],
   "source": [
    "dort_dokuz=df.iloc[4:10]\n",
    "print(dort_dokuz)"
   ]
  },
  {
   "cell_type": "code",
   "execution_count": 94,
   "metadata": {},
   "outputs": [
    {
     "name": "stdout",
     "output_type": "stream",
     "text": [
      "1          T-shirt\n",
      "2         Sandalet\n",
      "3             Küpe\n",
      "4    Spor Ayakkabı\n",
      "5         Pantolon\n",
      "6            Kolye\n",
      "7            Yüzük\n",
      "Name: Ürün, dtype: object\n"
     ]
    }
   ],
   "source": [
    "bir_alti_urun=df.loc[1:7,\"Ürün\"]\n",
    "print(bir_alti_urun)"
   ]
  },
  {
   "cell_type": "code",
   "execution_count": 93,
   "metadata": {},
   "outputs": [
    {
     "name": "stdout",
     "output_type": "stream",
     "text": [
      "0       Kazak\n",
      "1     T-shirt\n",
      "5    Pantolon\n",
      "9       Ceket\n",
      "Name: Ürün, dtype: object\n"
     ]
    }
   ],
   "source": [
    "giyim=df[df[\"Kategori\"]==\"Giyim\"][\"Ürün\"]\n",
    "print(giyim)"
   ]
  },
  {
   "cell_type": "code",
   "execution_count": 91,
   "metadata": {},
   "outputs": [
    {
     "name": "stdout",
     "output_type": "stream",
     "text": [
      "2         Sandalet\n",
      "4    Spor Ayakkabı\n",
      "8            Çizme\n",
      "Name: Ürün, dtype: object\n"
     ]
    }
   ],
   "source": [
    "ayakkabı=df[df[\"Kategori\"]==\"Ayakkabı\"][\"Ürün\"]\n",
    "print(ayakkabı)"
   ]
  },
  {
   "cell_type": "code",
   "execution_count": 90,
   "metadata": {},
   "outputs": [
    {
     "name": "stdout",
     "output_type": "stream",
     "text": [
      "3     Küpe\n",
      "6    Kolye\n",
      "7    Yüzük\n",
      "Name: Ürün, dtype: object\n"
     ]
    }
   ],
   "source": [
    "aksesuar=df[df[\"Kategori\"]==\"Aksesuar\"][\"Ürün\"]\n",
    "print(aksesuar)"
   ]
  },
  {
   "cell_type": "code",
   "execution_count": 89,
   "metadata": {},
   "outputs": [
    {
     "name": "stdout",
     "output_type": "stream",
     "text": [
      "5    Pantolon\n",
      "9       Ceket\n",
      "Name: Ürün, dtype: object\n"
     ]
    }
   ],
   "source": [
    "fiyat1=df[(df[\"Kategori\"]==\"Giyim\") & (df[\"Fiyat\"]>300)][\"Ürün\"]\n",
    "print(fiyat1)\n"
   ]
  },
  {
   "cell_type": "code",
   "execution_count": 88,
   "metadata": {},
   "outputs": [
    {
     "name": "stdout",
     "output_type": "stream",
     "text": [
      "2    Sandalet\n",
      "Name: Ürün, dtype: object\n"
     ]
    }
   ],
   "source": [
    "fiyat2=df[(df[\"Kategori\"]==\"Ayakkabı\") & (df[\"Fiyat\"]<600)][\"Ürün\"]\n",
    "print(fiyat2)"
   ]
  },
  {
   "cell_type": "code",
   "execution_count": 87,
   "metadata": {},
   "outputs": [
    {
     "name": "stdout",
     "output_type": "stream",
     "text": [
      "6    Kolye\n",
      "Name: Ürün, dtype: object\n"
     ]
    }
   ],
   "source": [
    "fiyat3=df[(df[\"Kategori\"]==\"Aksesuar\") & (df[\"Fiyat\"]>100)][\"Ürün\"]\n",
    "print(fiyat3)"
   ]
  }
 ],
 "metadata": {
  "kernelspec": {
   "display_name": "Python 3",
   "language": "python",
   "name": "python3"
  },
  "language_info": {
   "codemirror_mode": {
    "name": "ipython",
    "version": 3
   },
   "file_extension": ".py",
   "mimetype": "text/x-python",
   "name": "python",
   "nbconvert_exporter": "python",
   "pygments_lexer": "ipython3",
   "version": "3.11.9"
  }
 },
 "nbformat": 4,
 "nbformat_minor": 2
}
