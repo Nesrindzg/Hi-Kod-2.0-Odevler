{
 "cells": [
  {
   "cell_type": "code",
   "execution_count": null,
   "metadata": {},
   "outputs": [],
   "source": [
    "import numpy as np\n",
    "dizi=np.array([1,23,53,62,29,61,53],dtype=int)\n",
    "\n",
    "print(\"Dizinin Boyutu:\",dizi.shape)\n",
    "print(\"Dizinin Eleman Sayısı:\",dizi.size) #len(dizi)\n",
    "print()\n",
    "\n",
    "def soru2(dizi):\n",
    "    print(\"------ Dizi Bilgileri ------\")\n",
    "    print(\"Dizinin Boyutu:\",dizi.shape)\n",
    "    print(\"Dizinin Satır Sayısı:\",dizi.shape[0])\n",
    "    print(\"Dizinin Sütun Sayısı:\",dizi.shape[1])\n",
    "    print(dizi[0][2])\n",
    "    print(dizi[1:])\n",
    "    print()\n",
    "    \n",
    "dizi2=np.array([[1,23,53],[12,43,1]])\n",
    "dizi3=np.array([[14,3,29],[12,65,9],[11,29,22]])\n",
    "\n",
    "soru2(dizi2)\n",
    "soru2(dizi3)\n",
    "\n",
    "print(dizi[0])\n",
    "print(dizi[2:6])\n",
    "print(\"-----------------\")\n",
    "print(dizi2[1])\n",
    "print(dizi2[1:])\n",
    "print(\"-----------------\")\n",
    "print(dizi3[2])\n",
    "print(dizi3[1:])"
   ]
  },
  {
   "cell_type": "code",
   "execution_count": 10,
   "metadata": {},
   "outputs": [
    {
     "name": "stdout",
     "output_type": "stream",
     "text": [
      "Satır\n",
      "[[0 0 0]\n",
      " [0 0 0]\n",
      " [1 1 1]\n",
      " [1 1 1]]\n",
      "\n",
      "Sütun\n",
      "[[0 0 0 1 1 1]\n",
      " [0 0 0 1 1 1]]\n"
     ]
    }
   ],
   "source": [
    "import numpy as np\n",
    "zeros=np.array([[0,0,0],[0,0,0]])\n",
    "ones=np.array([[1,1,1],[1,1,1]])\n",
    "satir=np.concatenate((zeros,ones),axis=0)\n",
    "sutun=np.concatenate((zeros,ones),axis=1)\n",
    "print(\"Satır\")\n",
    "print(satir)\n",
    "print()\n",
    "print(\"Sütun\")\n",
    "print(sutun)"
   ]
  }
 ],
 "metadata": {
  "kernelspec": {
   "display_name": "Python 3",
   "language": "python",
   "name": "python3"
  },
  "language_info": {
   "codemirror_mode": {
    "name": "ipython",
    "version": 3
   },
   "file_extension": ".py",
   "mimetype": "text/x-python",
   "name": "python",
   "nbconvert_exporter": "python",
   "pygments_lexer": "ipython3",
   "version": "3.11.9"
  }
 },
 "nbformat": 4,
 "nbformat_minor": 2
}
