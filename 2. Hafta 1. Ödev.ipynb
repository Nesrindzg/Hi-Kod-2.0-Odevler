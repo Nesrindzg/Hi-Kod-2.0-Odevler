{
 "cells": [
  {
   "cell_type": "code",
   "execution_count": null,
   "metadata": {},
   "outputs": [],
   "source": [
    "\"\"\" Ödev 1 \"\"\"\n",
    "def daireAlaniHesaplama(pi,yariCap):\n",
    "    sonuc=pi*(yariCap**2)\n",
    "    return sonuc\n",
    "\n",
    "pi=float(input(\"Pi değerini giriniz: \"))\n",
    "yariCap=float(input(\"Yarıçap değerini giriniz: \"))\n",
    "(daireAlaniHesaplama(pi,yariCap))"
   ]
  },
  {
   "cell_type": "code",
   "execution_count": 53,
   "metadata": {},
   "outputs": [
    {
     "name": "stdout",
     "output_type": "stream",
     "text": [
      "5 sayısının faktöriyeli: 120\n"
     ]
    }
   ],
   "source": [
    "\"\"\" Ödev 2 \"\"\"\n",
    "def faktoriyel(sayi):\n",
    "    sonuc = 1\n",
    "    for i in range(1, sayi + 1):\n",
    "        sonuc *= i\n",
    "    print(\"{} sayısının faktöriyeli: {}\".format(sayi, sonuc))\n",
    "\n",
    "sayi = int(input(\"Faktöriyelini hesaplamak istediğiniz sayıyı girin: \"))\n",
    "\n",
    "faktoriyel(sayi)\n"
   ]
  },
  {
   "cell_type": "code",
   "execution_count": 64,
   "metadata": {},
   "outputs": [
    {
     "name": "stdout",
     "output_type": "stream",
     "text": [
      "Yaşınız:  19\n"
     ]
    }
   ],
   "source": [
    "\"\"\" Ödev 3 \"\"\"\n",
    "from datetime import datetime\n",
    "def yasHesapla(_yil):\n",
    "    yil = datetime.now()\n",
    "    sonuc= yil.year-_yil\n",
    "    print(\"Yaşınız: \",sonuc)\n",
    "\n",
    "girilen = int(input(\"Doğum Yılınızı Giriniz: \"))\n",
    "yasHesapla(girilen)"
   ]
  },
  {
   "cell_type": "code",
   "execution_count": null,
   "metadata": {},
   "outputs": [],
   "source": [
    "\"\"\" Ödev 4 \"\"\"\n",
    "from datetime import datetime\n",
    "def yasHesapla(isim,dYil):\n",
    "    yil = datetime.now()\n",
    "    sonuc= yil.year-dYil\n",
    "    return sonuc \n",
    "\n",
    "def emeklilik(yas):\n",
    "        if(yas>=65): \n",
    "              print(\"Emekli oldunuz\")   \n",
    "        else:\n",
    "              print(\"{} sayısının faktöriyeli: {}\".format(sayi, sonuc))\n",
    "              \n",
    "\n",
    "\n",
    "isim = int(input(\"Doğum Yılınızı Giriniz: \"))\n",
    "dYil = int(input(\"Doğum Yılınızı Giriniz: \"))\n",
    "yasHesapla(isim,dYil)"
   ]
  }
 ],
 "metadata": {
  "kernelspec": {
   "display_name": "Python 3",
   "language": "python",
   "name": "python3"
  },
  "language_info": {
   "codemirror_mode": {
    "name": "ipython",
    "version": 3
   },
   "file_extension": ".py",
   "mimetype": "text/x-python",
   "name": "python",
   "nbconvert_exporter": "python",
   "pygments_lexer": "ipython3",
   "version": "3.11.9"
  }
 },
 "nbformat": 4,
 "nbformat_minor": 2
}
